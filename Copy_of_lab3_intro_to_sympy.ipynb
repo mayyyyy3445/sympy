{
  "nbformat": 4,
  "nbformat_minor": 0,
  "metadata": {
    "colab": {
      "provenance": []
    },
    "kernelspec": {
      "name": "python3",
      "display_name": "Python 3"
    },
    "language_info": {
      "name": "python"
    }
  },
  "cells": [
    {
      "cell_type": "markdown",
      "source": [
        "## Laboratory Activity #3: Introduction to SymPy\n",
        "\n",
        "###Objectives:\n",
        "- Apply basic symbolic calculations using SymPy"
      ],
      "metadata": {
        "id": "ry6k4qR8H7Bq"
      }
    },
    {
      "cell_type": "markdown",
      "source": [
        "#### Task # 1: Include all necessary sympy modules\n",
        "\n",
        "\n"
      ],
      "metadata": {
        "id": "G_Ua0LKbIPfK"
      }
    },
    {
      "cell_type": "code",
      "execution_count": null,
      "metadata": {
        "id": "DPFz-qLYHiFJ"
      },
      "outputs": [],
      "source": [
        "from sympy import symbols, sqrt, simplify, expand, Eq\n"
      ]
    },
    {
      "cell_type": "markdown",
      "source": [
        "#### Task # 2: Basic calculation\n",
        "Solve for the following:\n",
        "\n",
        "- $\\frac{5}{3} + \\frac{\\sqrt{10}}{2}$\n",
        "- $\\sqrt{50} \\times \\sqrt{\\frac{5}{9}}$"
      ],
      "metadata": {
        "id": "3i4pd__LIl1X"
      }
    },
    {
      "cell_type": "code",
      "source": [
        "expr1 = 53 + 10 * sqrt(2)\n",
        "expr2 = sqrt(50) * sqrt(59)\n",
        "\n",
        "expr1, expr2"
      ],
      "metadata": {
        "id": "Nk9U7XU8RhEH"
      },
      "execution_count": null,
      "outputs": []
    },
    {
      "cell_type": "code",
      "source": [
        "expr1 = 53 + 10 * sqrt(2)\n",
        "expr2 = sqrt(50) * sqrt(59)\n",
        "\n",
        "expr1, expr2"
      ],
      "metadata": {
        "id": "6baME6J6Rgru"
      },
      "execution_count": null,
      "outputs": []
    },
    {
      "cell_type": "markdown",
      "source": [
        "#### Task # 3: Symbols\n",
        "Create the equation for the following using `Symbols`:\n",
        "- $2x+3y=12$\n",
        "- $x−y=4$"
      ],
      "metadata": {
        "id": "UH2m4ur7NERn"
      }
    },
    {
      "cell_type": "code",
      "source": [
        "\n",
        "x, y = symbols('x y')\n",
        "\n",
        "\n",
        "eq1 = Eq(2*x + 3*y, 12)\n",
        "eq2 = Eq(x - y, 4)\n",
        "\n",
        "eq1, eq2\n"
      ],
      "metadata": {
        "id": "4RUw45azRejM"
      },
      "execution_count": null,
      "outputs": []
    },
    {
      "cell_type": "code",
      "source": [
        "\n",
        "x, y = symbols('x y')\n",
        "\n",
        "\n",
        "eq1 = Eq(2*x + 3*y, 12)\n",
        "eq2 = Eq(x - y, 4)\n",
        "\n",
        "eq1, eq2\n"
      ],
      "metadata": {
        "id": "nKlN5AeURwI6"
      },
      "execution_count": null,
      "outputs": []
    },
    {
      "cell_type": "markdown",
      "source": [
        "#### Task # 3: Simplification\n",
        "Simplify the following equations using the `simplify` method\n",
        "\n",
        "- $\\frac{x^2 + 2x + 1}{x + 1}$\n",
        "\n",
        "- $\\frac{1 - \\frac{1}{1 + \\frac{1}{x}}}{1 + \\frac{1}{x}}\n",
        "$"
      ],
      "metadata": {
        "id": "IS8vTb7FPDbQ"
      }
    },
    {
      "cell_type": "code",
      "source": [
        "\n",
        "expr3 = simplify((x**2 + 2*x + 1) / (x + 1))\n",
        "expr4 = simplify((1 - 1/(1 + 1/x)) / (1 + 1/x))\n",
        "\n",
        "expr3, expr4\n"
      ],
      "metadata": {
        "id": "38CFQlfxR0TV"
      },
      "execution_count": null,
      "outputs": []
    },
    {
      "cell_type": "code",
      "source": [
        "\n",
        "expr3 = simplify((x**2 + 2*x + 1) / (x + 1))\n",
        "expr4 = simplify((1 - 1/(1 + 1/x)) / (1 + 1/x))\n",
        "\n",
        "expr3, expr4\n"
      ],
      "metadata": {
        "id": "fSi0XQcWR2uo"
      },
      "execution_count": null,
      "outputs": []
    },
    {
      "cell_type": "markdown",
      "source": [
        "### Task # 4: Expansion\n",
        "Expand the following expressions using the `expand` method\n",
        "- $(2x + 2)^2$\n",
        "- $(2x + y)(x - 2y)$\n"
      ],
      "metadata": {
        "id": "oXI_LJ-hRR_n"
      }
    },
    {
      "cell_type": "code",
      "source": [
        "expr5 = expand((2*x + 2)**2)\n",
        "expr6 = expand((2*x + y)*(x - 2*y))\n",
        "\n",
        "expr5, expr6"
      ],
      "metadata": {
        "id": "OwjWp39uS0Jb"
      },
      "execution_count": null,
      "outputs": []
    },
    {
      "cell_type": "code",
      "source": [
        "expr5 = expand((2*x + 2)**2)\n",
        "expr6 = expand((2*x + y)*(x - 2*y))\n",
        "\n",
        "expr5, expr6"
      ],
      "metadata": {
        "id": "g-QEmoMCS6TH"
      },
      "execution_count": null,
      "outputs": []
    }
  ]
}